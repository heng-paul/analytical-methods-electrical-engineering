{
 "cells": [
  {
   "cell_type": "markdown",
   "metadata": {
    "ExecuteTime": {
     "end_time": "2019-09-24T16:05:23.746666Z",
     "start_time": "2019-09-24T16:05:23.741461Z"
    },
    "colab_type": "text",
    "id": "n9avjO6abIYO"
   },
   "source": [
    "## EE 502 P: Analytical Methods for Electrical Engineering\n",
    "    \n",
    "# Homework 8: Probability and Markov Processes\n",
    "## Due 27 November, 2019 at 6:00 PM\n",
    "### <span style=\"color: red\">Paul Heng</span>\n",
    "\n",
    "Copyright &copy; 2019, University of Washington\n",
    "\n",
    "<hr>\n",
    "\n",
    "**Instructions**: Use this notebook as a template. Answer all questions using well formatted Markdown with embedded LaTeX equations, executable Jupyter cells, or both. Submit your homework solutions as an `.ipynb` file via Canvas.\n",
    "\n",
    "<span style=\"background: yellow; padding: 6px; border: 1pt solid black\">\n",
    "Although you may discuss the homework with others, you must turn in your own, original work.\n",
    "</span>\n",
    "\n",
    "**Things to remember:**\n",
    "- Use complete sentences. Equations should appear in text as grammatical elements.\n",
    "- Comment your code.\n",
    "- Label your axes. Title your plots. Use legends where appropriate. \n",
    "- Before submitting a notebook, choose Kernel -> Restart and Run All to make sure your notebook runs when the cells are evaluated in order. \n",
    "\n",
    "Note : Late homework will be accepted up to one week after the due date and will be worth 50% of its full credit score. "
   ]
  },
  {
   "cell_type": "markdown",
   "metadata": {
    "colab_type": "text",
    "id": "zIgw7vnhbIYU"
   },
   "source": [
    "### 0. Warmup (Do not turn in)\n",
    "\n",
    "- Make sure you get download, read, and run the notebook for lecture 8. Work through the notebook cell by cell and see what happens when you change the expressions, and make up some of your own.\n",
    "- Most of the section on basic graph theory is from chapter the really, really, really good book:\n",
    "\n",
    "> Feller, [An Introduction to Probability Theory and Its Applications, Vol 1](https://www.amazon.com/Introduction-Probability-Theory-Applications-Vol/dp/0471257087), 3rd Edition, Wiley, 1968. \n",
    "\n",
    "- The material on Markov Chains can be found in numerous textbooks. A good online source is Chapter 11 of \n",
    "\n",
    "> Grinstead, [Introduction to Probability](http://www.dartmouth.edu/~chance/teaching_aids/books_articles/probability_book/book.html).\n",
    "\n"
   ]
  },
  {
   "cell_type": "code",
   "execution_count": 2,
   "metadata": {},
   "outputs": [],
   "source": [
    "import networkx as nx\n",
    "import math\n",
    "import scipy\n",
    "import scipy.integrate as spi\n",
    "import numpy as np\n",
    "import sympy as sm\n",
    "sm.init_printing(use_latex='mathjax')\n",
    "import matplotlib.pyplot as plt\n",
    "import itertools\n",
    "import random\n",
    "%matplotlib inline"
   ]
  },
  {
   "cell_type": "markdown",
   "metadata": {
    "colab_type": "text",
    "id": "ztyKdU2UbIYX"
   },
   "source": [
    "### 1. Fundamental properties\n",
    "\n",
    "Use the definitions and basic properties of a probability function to show the following identities:\n",
    "\n",
    "a) $P[A \\oplus B] = P[A \\cap \\overline{B}] + P[\\overline{A} \\cap B]$ where $\\oplus$ is the exclusive or operation. \n",
    "\n",
    "b) $P[A \\oplus B] = P[A] + B[B] - 2 P[A\\cap B]$."
   ]
  },
  {
   "cell_type": "markdown",
   "metadata": {},
   "source": [
    "a)\n",
    "\n",
    "$P[A \\cup B] = P[A] + P[B]$ whenever $A \\cap B = \\emptyset$\n",
    "\n",
    "$P[A \\oplus B] = P[(A \\cap \\overline B) \\cup (\\overline{A} \\cap B)] \\Longleftrightarrow P[A \\cap \\overline{B}] + P[\\overline{A} \\cap B]$\n",
    "\n",
    "b)\n",
    "\n",
    "$A \\cap \\overline B = A - (A \\cap B)$ \n",
    "\n",
    "$\\overline A \\cap  B = B - (A \\cap B)$ \n",
    "\n",
    "$P[A \\oplus B] = P[A \\cap \\overline{B}] + P[\\overline{A} \\cap B] \\Longleftrightarrow A - (A \\cap B) + B - (A \\cap B) = P[A] + B[B] - 2 P[A\\cap B]$"
   ]
  },
  {
   "cell_type": "markdown",
   "metadata": {
    "colab_type": "text",
    "id": "Ny8hPQGJbIYc"
   },
   "source": [
    "## 2. Dice\n",
    "\n",
    "Suppose two dice are tossed, but that the dice are weighted so that 1 comes up as twice as likely as any other number for both dice. \n",
    "\n",
    "a) What is the probability of getting a sum of seven?\n",
    "\n",
    "b) What is the probability of getting a sum of seven given that the first die comes up 1?\n",
    "\n",
    "c) What is the probability neither die coming up 1?\n",
    "\n",
    "d) What is the PDF of the random variable $X$ defined to the the sum of the two dice?"
   ]
  },
  {
   "cell_type": "markdown",
   "metadata": {},
   "source": [
    "| n    | 1  | 2 | 3 | 4 | 5 | 6 |\n",
    "|------|----|---|---|---|---|---|\n",
    "| p(n) | 2a | a | a | a | a | a |"
   ]
  },
  {
   "cell_type": "markdown",
   "metadata": {},
   "source": [
    "| D1/D2 | 1      | 2     | 3     | 4     | 5     | 6     |\n",
    "|-------|--------|-------|-------|-------|-------|-------|\n",
    "| 1     | (2a)^2 | (2a)a | (2a)a | (2a)a | (2a)a | (2a)a |\n",
    "| 2     | (2a)a  | a^2   | a^2   | a^2   | a^2   | a^2   |\n",
    "| 3     | (2a)a  | a^2   | a^2   | a^2   | a^2   | a^2   |\n",
    "| 4     | (2a)a  | a^2   | a^2   | a^2   | a^2   | a^2   |\n",
    "| 5     | (2a)a  | a^2   | a^2   | a^2   | a^2   | a^2   |\n",
    "| 6     | (2a)a  | a^2   | a^2   | a^2   | a^2   | a^2   |"
   ]
  },
  {
   "cell_type": "markdown",
   "metadata": {},
   "source": [
    "| D1/D2 | 1    | 2    | 3    | 4    | 5    | 6    |\n",
    "|-------|------|------|------|------|------|------|\n",
    "| 1     | 4/49 | 2/49 | 2/49 | 2/49 | 2/49 | 2/49 |\n",
    "| 2     | 2/49 | 1/49 | 1/49 | 1/49 | 1/49 | 1/49 |\n",
    "| 3     | 2/49 | 1/49 | 1/49 | 1/49 | 1/49 | 1/49 |\n",
    "| 4     | 2/49 | 1/49 | 1/49 | 1/49 | 1/49 | 1/49 |\n",
    "| 5     | 2/49 | 1/49 | 1/49 | 1/49 | 1/49 | 1/49 |\n",
    "| 6     | 2/49 | 1/49 | 1/49 | 1/49 | 1/49 | 1/49 |"
   ]
  },
  {
   "cell_type": "markdown",
   "metadata": {},
   "source": [
    "a) 8/49 (a = 1/7)\n",
    "\n",
    "b) 1/7\n",
    "\n",
    "c) 25/49\n",
    "\n",
    "d)\n",
    "\n",
    "2 = 4/49\n",
    "3 = 4/49\n",
    "4 = 5/49\n",
    "5 = 6/49\n",
    "6 = 7/49\n",
    "7 = 8/49\n",
    "8 = 5/49\n",
    "9 = 4/49\n",
    "10 = 3/49\n",
    "11 = 2/49\n",
    "12 = 1/49"
   ]
  },
  {
   "cell_type": "code",
   "execution_count": 4,
   "metadata": {},
   "outputs": [
    {
     "data": {
      "image/png": "[encoded data removed]",
      "text/plain": [
       "<Figure size 432x288 with 1 Axes>"
      ]
     },
     "metadata": {},
     "output_type": "display_data"
    }
   ],
   "source": [
    "sum2 = 4/49\n",
    "sum3 = 4/49\n",
    "sum4 = 5/49\n",
    "sum5 = 6/49\n",
    "sum6 = 7/49\n",
    "sum7 = 8/49\n",
    "sum8 = 5/49\n",
    "sum9 = 4/49\n",
    "sum10 = 3/49\n",
    "sum11 = 2/49\n",
    "sum12 = 1/49\n",
    "\n",
    "import matplotlib.pyplot as plt\n",
    "\n",
    "# Data to plot\n",
    "labels = 'Sum of 2', 'Sum of 3', 'Sum of 4', 'Sum of 5', 'Sum of 6', 'Sum of 7', 'Sum of 8','Sum of 9', 'Sum of 10', 'Sum of 11', 'Sum of 12'\n",
    "sizes = [4/49, 4/49, 5/49, 6/49, 7/49, 8/49, 5/49, 4/49, 3/49, 2/49, 1/49]\n",
    "# Plot\n",
    "plt.pie(sizes, labels=labels,\n",
    "autopct='%1.1f%%', shadow=True, startangle=140)\n",
    "\n",
    "plt.axis('equal')\n",
    "plt.show()"
   ]
  },
  {
   "cell_type": "markdown",
   "metadata": {
    "colab_type": "text",
    "id": "AX598kdobIYg"
   },
   "source": [
    "## 3. PDF and CDF\n",
    "\n",
    "Suppose that a random variable $X$ has PDF defined by\n",
    "\n",
    "$$\n",
    "f_X(x) = \\left \\{\n",
    "\\begin{array}{ll}\n",
    "a(1+x) & \\; \\mathrm{if} \\; -1 < x \\leq 0 \\\\\n",
    "a(1-x) & \\; \\mathrm{if} \\; 0 < x < 1 \\\\\n",
    "0 & \\; \\mathrm{otherwise}.\n",
    "\\end{array}\n",
    "\\right .\n",
    "$$\n",
    "\n",
    "a) What does the value of $a$ need to be to make $f_X$ a probability distribution? Plot $f_X$ for this value.\n",
    "\n",
    "b) Find and plot $F_X$.\n",
    "\n",
    "c) Find $b$ such that $P[X>b] = \\frac{1}{2} P[X \\leq b]$. "
   ]
  },
  {
   "cell_type": "markdown",
   "metadata": {},
   "source": [
    "$\n",
    "\\int_{-\\infty}^{\\infty}f_x (x)dx = 1 = \\int_{-1} ^ {0} a (1+x)dx + \\int_{0}^{1}a(1-x)dx = a\n",
    "$"
   ]
  },
  {
   "cell_type": "code",
   "execution_count": 5,
   "metadata": {},
   "outputs": [
    {
     "data": {
      "image/png": "[encoded data removed]",
      "text/plain": [
       "<Figure size 432x288 with 1 Axes>"
      ]
     },
     "metadata": {
      "needs_background": "light"
     },
     "output_type": "display_data"
    }
   ],
   "source": [
    "# An example\n",
    "x = np.linspace(-1,1,100) # Has 100 points\n",
    "a = 0.5\n",
    "\n",
    "xs = x[x <= 0]\n",
    "f = list(np.where(xs, a * (1 + xs), 0)) # f(x) where x <= 0 Only has 50 points\n",
    "\n",
    "xs = x[x > 0]\n",
    "f += list(np.where(xs, a * (1 - xs), 0))# f(x) where x > 0 Only has 50 points\n",
    "\n",
    "plt.plot(x,f)\n",
    "plt.ylabel('y')\n",
    "plt.xlabel('x')\n",
    "plt.show()"
   ]
  },
  {
   "cell_type": "code",
   "execution_count": 6,
   "metadata": {},
   "outputs": [
    {
     "data": {
      "text/latex": [
       "$\\displaystyle \\frac{a x^{2}}{2} + a x + \\frac{a}{2}$"
      ],
      "text/plain": [
       "   2          \n",
       "a⋅x          a\n",
       "──── + a⋅x + ─\n",
       " 2           2"
      ]
     },
     "execution_count": 6,
     "metadata": {},
     "output_type": "execute_result"
    }
   ],
   "source": [
    "a = sm.symbols(\"a\")\n",
    "x = sm.symbols(\"x\")\n",
    "sm.integrate((a * (1 + x)), (x, -1, x))"
   ]
  },
  {
   "cell_type": "code",
   "execution_count": 7,
   "metadata": {},
   "outputs": [
    {
     "data": {
      "text/latex": [
       "$\\displaystyle - \\frac{a x^{2}}{2} + a x$"
      ],
      "text/plain": [
       "     2      \n",
       "  a⋅x       \n",
       "- ──── + a⋅x\n",
       "   2        "
      ]
     },
     "execution_count": 7,
     "metadata": {},
     "output_type": "execute_result"
    }
   ],
   "source": [
    "a = sm.symbols(\"a\")\n",
    "x = sm.symbols(\"x\")\n",
    "sm.integrate((a * (1 - x)), (x, 0, x))"
   ]
  },
  {
   "cell_type": "code",
   "execution_count": 8,
   "metadata": {},
   "outputs": [
    {
     "data": {
      "image/png": "[encoded data removed]",
      "text/plain": [
       "<Figure size 432x288 with 1 Axes>"
      ]
     },
     "metadata": {
      "needs_background": "light"
     },
     "output_type": "display_data"
    }
   ],
   "source": [
    "# An example\n",
    "x = np.linspace(-1,1,100) # Has 100 points\n",
    "a = 0.5\n",
    "\n",
    "xs = x[x <= 0]\n",
    "f = list(np.where(xs, (((a * xs) ** 2) / 2) + (a * xs) + (a / 2) , 0)) # f(x) where x <= 0 Only has 50 points\n",
    "\n",
    "xs = x[x > 0]\n",
    "f += list(np.where(xs, (a / 2) -((a * xs) ** 2) + (a * xs), 0))# f(x) where x > 0 Only has 50 points\n",
    "\n",
    "plt.plot(x,f)\n",
    "plt.ylabel('y')\n",
    "plt.xlabel('x')\n",
    "plt.show()"
   ]
  },
  {
   "cell_type": "markdown",
   "metadata": {
    "colab_type": "text",
    "id": "KMGmcxuBbIYi"
   },
   "source": [
    "## 4. Functions of a Random Variable\n",
    "\n",
    "Suppose $X$ is distributed uniformly in the interval $[0,1]$. That is, $f_X(x) = 1$ if $x \\in [0,1]$ and $f_X(x) = 0$ otherwise. \n",
    "\n",
    "a) What is the CDF of $X$?\n",
    "\n",
    "b) Let $Y = X^2$. Find and plot $F_Y$ and $f_Y$. \n",
    "\n",
    "c) Let $Z = - \\frac{1}{\\lambda} \\ln X$. Find and plot $F_Z$ and $f_Z$. "
   ]
  },
  {
   "cell_type": "markdown",
   "metadata": {},
   "source": [
    "$F_X (x) = 0$, if $ x<0$\n",
    "\n",
    "$F_X (x) = 1$, if $ x>1$"
   ]
  },
  {
   "cell_type": "code",
   "execution_count": 81,
   "metadata": {},
   "outputs": [
    {
     "data": {
      "image/png": "[encoded data removed]",
      "text/plain": [
       "<Figure size 432x288 with 1 Axes>"
      ]
     },
     "metadata": {
      "needs_background": "light"
     },
     "output_type": "display_data"
    }
   ],
   "source": [
    "y = sm.symbols(\"y\")\n",
    "t = sm.symbols(\"t\")\n",
    "sm.integrate(1, (t, 0, 1))\n",
    "\n",
    "# An example\n",
    "x = np.linspace(0,1,100) # Has 100 points\n",
    "a = 0.5\n",
    "\n",
    "xs = x\n",
    "f = list(np.where(xs, xs , 0)) # f(x) where x <= 0 Only has 50 points\n",
    "\n",
    "plt.plot(x,f)\n",
    "plt.ylabel('y')\n",
    "plt.xlabel('x')\n",
    "plt.show()"
   ]
  },
  {
   "cell_type": "code",
   "execution_count": 41,
   "metadata": {},
   "outputs": [
    {
     "data": {
      "image/png": "[encoded data removed]",
      "text/plain": [
       "<Figure size 432x288 with 1 Axes>"
      ]
     },
     "metadata": {
      "needs_background": "light"
     },
     "output_type": "display_data"
    }
   ],
   "source": [
    "y = sm.symbols(\"y\")\n",
    "t = sm.symbols(\"t\")\n",
    "sm.integrate(1, (t, 0, sm.sqrt(y)))\n",
    "\n",
    "x = np.linspace(0,1,100)\n",
    "\n",
    "def f(x):\n",
    "    if 0 < x < 1:\n",
    "        return .5 / np.sqrt(x)\n",
    "    if x > 1:\n",
    "        return 1\n",
    "    if x < 0:\n",
    "        return 0\n",
    "\n",
    "def F(x):\n",
    "    if 0 < x < 1:\n",
    "        return np.sqrt(x)\n",
    "    if x > 1:\n",
    "        return 1\n",
    "    if x < 0:\n",
    "        return 0\n",
    "y = []\n",
    "y2 = []\n",
    "\n",
    "for i in x:\n",
    "    y.append(f(i))\n",
    "    y2.append(F(i))\n",
    "    \n",
    "plt.plot(x,y)\n",
    "plt.plot(x,y2)\n",
    "plt.show()"
   ]
  },
  {
   "cell_type": "code",
   "execution_count": 82,
   "metadata": {},
   "outputs": [
    {
     "data": {
      "image/png": "[encoded data removed]",
      "text/plain": [
       "<Figure size 432x288 with 1 Axes>"
      ]
     },
     "metadata": {
      "needs_background": "light"
     },
     "output_type": "display_data"
    }
   ],
   "source": [
    "y = sm.symbols(\"y\")\n",
    "t = sm.symbols(\"t\")\n",
    "sm.integrate(1, (t, 0, sm.sqrt(y)))\n",
    "\n",
    "x = np.linspace(-1,10,1000)\n",
    "\n",
    "def f(x):\n",
    "    if x > 0:\n",
    "        return np.exp(-x)\n",
    "    if x <= 0:\n",
    "        return 0\n",
    "\n",
    "def F(x):\n",
    "    if x > 0:\n",
    "        return 1 - np.exp(-x)\n",
    "    if x <= 0:\n",
    "        return 0\n",
    "y = []\n",
    "y2 = []\n",
    "\n",
    "for i in x:\n",
    "    y.append(f(i))\n",
    "    y2.append(F(i))\n",
    "    \n",
    "plt.plot(x,y)\n",
    "plt.plot(x,y2)\n",
    "\n",
    "plt.ylabel('y')\n",
    "plt.xlabel('x')\n",
    "plt.show()"
   ]
  },
  {
   "cell_type": "markdown",
   "metadata": {
    "colab_type": "text",
    "id": "lMroASbmbIYo"
   },
   "source": [
    "## 5. Markov Process Properties\n",
    "\n",
    "Consider the following three Markov Processes.\n",
    "\n",
    "<img src=\"https://github.com/klavins/EE502P/blob/master/images/HW-MPs.jpeg?raw=1\" width=80%>\n",
    "\n",
    "For each process,\n",
    "\n",
    "i) Find the period of each state.\n",
    "\n",
    "ii) Identify transient states.\n",
    "\n",
    "iii) Identify absorbing states and absorbing subsets of states.\n",
    "\n",
    "iv) Identify ergodic states."
   ]
  },
  {
   "cell_type": "markdown",
   "metadata": {},
   "source": [
    "I) \n",
    "\n",
    "a) None\n",
    "\n",
    "b) None\n",
    "\n",
    "c) State 0 = No Period, State 1,2,3,4,5,6 = Period 2\n",
    "\n",
    "II)\n",
    "\n",
    "C0 is a transient state.\n",
    "\n",
    "III)\n",
    "\n",
    "No absorbing statesm only absorbing subsets of (1,2) , (3,4), and (5,6)\n",
    "\n",
    "IV)\n",
    "\n",
    "All states in section A"
   ]
  },
  {
   "cell_type": "markdown",
   "metadata": {
    "colab_type": "text",
    "id": "bzULi7zlbIYq"
   },
   "source": [
    "## 6. Stationary Distributions\n",
    "\n",
    "For each Markov Process in Problem 5:\n",
    "\n",
    "i) Find the update matrix $Q$.\n",
    "\n",
    "ii) Simulate the dynamics $p_{k+1} = p_k Q$ starting at the distribution in which $p_0(0) = 1$. Make a nice plot of the dynamics for each system. To do this, plot a 2D grid where grid point $(k,i)$ is a gray-scale square corresponding to the probability that the process is in state $i$ at time $k$ (the Gambler's Ruin example in the notes does this). \n",
    "\n",
    "iii) Find the left eigenvector(s) corresponding to the stationary distribution(s) of the process. If there is more than one such eigenvector, describe the space of stationary distributions as a linear combination of them.\n",
    "\n",
    "iv) Find the reachable stationary distribution assuming $p_0(0) = 1$. "
   ]
  },
  {
   "cell_type": "markdown",
   "metadata": {},
   "source": [
    "|   | 0   | 1   | 2   |\n",
    "|---|-----|-----|-----|\n",
    "| 0 | 0   | 0.5 | 0.5 |\n",
    "| 1 | 0.5 | 0   | 0.5 |\n",
    "| 2 | 0.5 | 0.5 | 0   |"
   ]
  },
  {
   "cell_type": "markdown",
   "metadata": {},
   "source": [
    "|   | 0   | 1 | 2 | 3   |\n",
    "|---|-----|---|---|-----|\n",
    "| 0 | 0   | 1 | 0 | 0   |\n",
    "| 1 | 0   | 0 | 1 | 0   |\n",
    "| 2 | 0   | 0 | 0 | 1   |\n",
    "| 3 | 0.5 | 0 | 0 | 0.5 |"
   ]
  },
  {
   "cell_type": "markdown",
   "metadata": {},
   "source": [
    "|   | 0 | 1   | 2 | 3    | 4 | 5    | 6 |\n",
    "|---|---|-----|---|------|---|------|---|\n",
    "| 0 | 0 | 0.5 | 0 | 0.25 | 0 | 0.25 | 0 |\n",
    "| 1 | 0 | 0   | 1 | 0    | 0 | 0    | 0 |\n",
    "| 2 | 0 | 1   | 0 | 0    | 0 | 0    | 0 |\n",
    "| 3 | 0 | 0   | 0 | 0    | 1 | 0    | 0 |\n",
    "| 4 | 0 | 0   | 0 | 1    | 0 | 0    | 0 |\n",
    "| 5 | 0 | 0   | 0 | 0    | 0 | 0    | 1 |\n",
    "| 6 | 0 | 0   | 0 | 0    | 0 | 1    | 0 |"
   ]
  },
  {
   "cell_type": "code",
   "execution_count": 61,
   "metadata": {},
   "outputs": [],
   "source": [
    "# 6.ii)\n",
    "\n",
    "def dynamics(k, Q, p):\n",
    "    '''\n",
    "    Assumes k is the numer of steps\n",
    "            Q is the update matrix\n",
    "            p0 is the starting distribution.\n",
    "    Returns a matrix of trajectories.\n",
    "    '''\n",
    "    trajectory = [p]\n",
    "    for t in range(k):\n",
    "        p = p @ Q\n",
    "        trajectory.append(p)\n",
    "    trajectory = np.matrix(trajectory).transpose()\n",
    "\n",
    "    return trajectory\n",
    "\n",
    "def dynamics_reach(k, Q, p):\n",
    "    '''\n",
    "    Assumes k is the numer of steps\n",
    "            Q is the update matrix\n",
    "            p0 is the starting distribution.\n",
    "    Returns a matrix of trajectories.\n",
    "    '''\n",
    "    trajectory = [p]\n",
    "    for t in range(k):\n",
    "        p = p @ Q\n",
    "        trajectory.append(p)\n",
    "    trajectory = np.matrix(trajectory).transpose()\n",
    "\n",
    "    #return trajectory\n",
    "    \n",
    "    return p * Q ** k\n"
   ]
  },
  {
   "cell_type": "code",
   "execution_count": 63,
   "metadata": {},
   "outputs": [],
   "source": [
    "def Qa(Qa, sympy=True):\n",
    "    '''\n",
    "    Assumes:    \n",
    "    Returns:\n",
    "    '''\n",
    "    a = 0.5\n",
    "    b = 0.25\n",
    "    #Qa = [[0.0, a, a], [a, 0.0, a], [a, a, 0.0]]\n",
    "    if sympy == True:\n",
    "        Qa = sm.Matrix(Qa)\n",
    "    else:    \n",
    "        Qa = np.asarray(Qa)\n",
    "    return Qa"
   ]
  },
  {
   "cell_type": "code",
   "execution_count": 102,
   "metadata": {},
   "outputs": [
    {
     "name": "stdout",
     "output_type": "stream",
     "text": [
      "[[0. 0. 0.]\n",
      " [0. 0. 0.]\n",
      " [0. 0. 0.]]\n"
     ]
    },
    {
     "data": {
      "text/latex": [
       "$\\displaystyle \\left[ \\left( -0.5, \\  2, \\  \\left[ \\left[\\begin{matrix}-1.0 & 1.0 & 0\\end{matrix}\\right], \\  \\left[\\begin{matrix}-1.0 & 0 & 1.0\\end{matrix}\\right]\\right]\\right), \\  \\left( 1.0, \\  1, \\  \\left[ \\left[\\begin{matrix}1.0 & 1.0 & 1.0\\end{matrix}\\right]\\right]\\right)\\right]$"
      ],
      "text/plain": [
       "[(-0.5, 2, [[-1.0  1.0  0], [-1.0  0  1.0]]), (1.0, 1, [[1.0  1.0  1.0]])]"
      ]
     },
     "execution_count": 102,
     "metadata": {},
     "output_type": "execute_result"
    },
    {
     "data": {
      "image/png": "[encoded data removed]",
      "text/plain": [
       "<Figure size 1152x360 with 1 Axes>"
      ]
     },
     "metadata": {
      "needs_background": "light"
     },
     "output_type": "display_data"
    }
   ],
   "source": [
    "P = np.array([[0, 0.5, 0.5], \n",
    "              [0.5, 0, 0.5],\n",
    "              [0.5, 0.5, 0]])\n",
    "\n",
    "p = [0, .5, .5]\n",
    "p = [1, 0, 0]\n",
    "\n",
    "trajectory = dynamics(50, P, p)\n",
    "fig,ax = plt.subplots(1,1,figsize=(16,5))\n",
    "ax.set_xlabel(\"t\")\n",
    "ax.set_ylabel(\"amount\")\n",
    "ax.imshow(trajectory,cmap=\"gray_r\")\n",
    "\n",
    "print(dynamics_reach(2000, P, p))\n",
    "Qa(P, sympy=True).left_eigenvects()"
   ]
  },
  {
   "cell_type": "code",
   "execution_count": 65,
   "metadata": {},
   "outputs": [
    {
     "name": "stdout",
     "output_type": "stream",
     "text": [
      "[[0.  0.2 0.  0. ]\n",
      " [0.  0.  0.2 0. ]\n",
      " [0.  0.  0.  0.4]\n",
      " [0.  0.  0.  0. ]]\n"
     ]
    },
    {
     "data": {
      "text/latex": [
       "$\\displaystyle \\left[ \\left( 1.0, \\  1, \\  \\left[ \\left[\\begin{matrix}0.5 & 0.5 & 0.5 & 1.0\\end{matrix}\\right]\\right]\\right), \\  \\left( 0.119491810752253 + 0.813834558901752 i, \\  1, \\  \\left[ \\left[\\begin{matrix}0.0883024910498311 - 0.601410409642739 i & -0.707794301802084 - 0.212424149259013 i & -0.380508189247747 + 0.813834558901752 i & 1.0\\end{matrix}\\right]\\right]\\right), \\  \\left( 0.119491810752253 - 0.813834558901752 i, \\  1, \\  \\left[ \\left[\\begin{matrix}0.0883024910498311 + 0.601410409642739 i & -0.707794301802084 + 0.212424149259013 i & -0.380508189247747 - 0.813834558901752 i & 1.0\\end{matrix}\\right]\\right]\\right), \\  \\left( -0.738983621504506, \\  1, \\  \\left[ \\left[\\begin{matrix}-0.676604982099662 & 0.915588603604168 & -1.23898362150451 & 1.0\\end{matrix}\\right]\\right]\\right)\\right]$"
      ],
      "text/plain": [
       "[(1.0, 1, [[0.5  0.5  0.5  1.0]]), (0.119491810752253 + 0.813834558901752⋅ⅈ, 1\n",
       ", [[0.0883024910498311 - 0.601410409642739⋅ⅈ  -0.707794301802084 - 0.212424149\n",
       "259013⋅ⅈ  -0.380508189247747 + 0.813834558901752⋅ⅈ  1.0]]), (0.119491810752253\n",
       " - 0.813834558901752⋅ⅈ, 1, [[0.0883024910498311 + 0.601410409642739⋅ⅈ  -0.7077\n",
       "94301802084 + 0.212424149259013⋅ⅈ  -0.380508189247747 - 0.813834558901752⋅ⅈ  1\n",
       ".0]]), (-0.738983621504506, 1, [[-0.676604982099662  0.915588603604168  -1.238\n",
       "98362150451  1.0]])]"
      ]
     },
     "execution_count": 65,
     "metadata": {},
     "output_type": "execute_result"
    },
    {
     "data": {
      "image/png": "[encoded data removed]",
      "text/plain": [
       "<Figure size 1152x360 with 1 Axes>"
      ]
     },
     "metadata": {
      "needs_background": "light"
     },
     "output_type": "display_data"
    }
   ],
   "source": [
    "P = np.array([[0, 1, 0, 0], \n",
    "              [0, 0, 1, 0],\n",
    "              [0, 0, 0, 1],\n",
    "              [0.5, 0, 0, 0.5]\n",
    "             ])\n",
    "\n",
    "#p = [0, .5, .5]\n",
    "p = [1, 0, 0, 0]\n",
    "\n",
    "trajectory = dynamics(50, P, p)\n",
    "fig,ax = plt.subplots(1,1,figsize=(16,5))\n",
    "ax.set_xlabel(\"t\")\n",
    "ax.set_ylabel(\"amount\")\n",
    "ax.imshow(trajectory,cmap=\"gray_r\")\n",
    "\n",
    "print(dynamics_reach(2000, P, p))\n",
    "Qa(P, sympy=True).left_eigenvects()"
   ]
  },
  {
   "cell_type": "code",
   "execution_count": 103,
   "metadata": {},
   "outputs": [
    {
     "name": "stdout",
     "output_type": "stream",
     "text": [
      "[[0.   0.   0.   0.   0.   0.   0.  ]\n",
      " [0.   0.   0.5  0.   0.   0.   0.  ]\n",
      " [0.   0.   0.   0.   0.   0.   0.  ]\n",
      " [0.   0.   0.   0.   0.25 0.   0.  ]\n",
      " [0.   0.   0.   0.   0.   0.   0.  ]\n",
      " [0.   0.   0.   0.   0.   0.   0.25]\n",
      " [0.   0.   0.   0.   0.   0.   0.  ]]\n"
     ]
    },
    {
     "data": {
      "text/latex": [
       "$\\displaystyle \\left[ \\left( -1.0, \\  3, \\  \\left[ \\left[\\begin{matrix}0 & -1.0 & 1.0 & 0 & 0 & 0 & 0\\end{matrix}\\right], \\  \\left[\\begin{matrix}0 & 0 & 0 & -1.0 & 1.0 & 0 & 0\\end{matrix}\\right], \\  \\left[\\begin{matrix}0 & 0 & 0 & 0 & 0 & -1.0 & 1.0\\end{matrix}\\right]\\right]\\right), \\  \\left( 0, \\  1, \\  \\left[ \\left[\\begin{matrix}-4.0 & 0 & 2.0 & 0 & 1.0 & 0 & 1.0\\end{matrix}\\right]\\right]\\right), \\  \\left( 1.0, \\  3, \\  \\left[ \\left[\\begin{matrix}0 & 1.0 & 1.0 & 0 & 0 & 0 & 0\\end{matrix}\\right], \\  \\left[\\begin{matrix}0 & 0 & 0 & 1.0 & 1.0 & 0 & 0\\end{matrix}\\right], \\  \\left[\\begin{matrix}0 & 0 & 0 & 0 & 0 & 1.0 & 1.0\\end{matrix}\\right]\\right]\\right)\\right]$"
      ],
      "text/plain": [
       "[(-1.0, 3, [[0  -1.0  1.0  0  0  0  0], [0  0  0  -1.0  1.0  0  0], [0  0  0  \n",
       "0  0  -1.0  1.0]]), (0, 1, [[-4.0  0  2.0  0  1.0  0  1.0]]), (1.0, 3, [[0  1.\n",
       "0  1.0  0  0  0  0], [0  0  0  1.0  1.0  0  0], [0  0  0  0  0  1.0  1.0]])]"
      ]
     },
     "execution_count": 103,
     "metadata": {},
     "output_type": "execute_result"
    },
    {
     "data": {
      "image/png": "[encoded data removed]",
      "text/plain": [
       "<Figure size 1152x360 with 1 Axes>"
      ]
     },
     "metadata": {
      "needs_background": "light"
     },
     "output_type": "display_data"
    }
   ],
   "source": [
    "P = np.array([[0, .5, 0, .25, 0, .25, 0], \n",
    "              [0, 0, 1, 0, 0, 0, 0],\n",
    "              [0, 1, 0, 0, 0, 0, 0],\n",
    "              [0, 0, 0, 0, 1, 0, 0],\n",
    "              [0, 0, 0, 1, 0, 0, 0],\n",
    "              [0, 0, 0, 0, 0, 0, 1],\n",
    "              [0, 0, 0, 0, 0, 1, 0]\n",
    "             ])\n",
    "\n",
    "p = [1, 0, 0, 0, 0, 0, 0]\n",
    "\n",
    "trajectory = dynamics(50, P, p)\n",
    "fig,ax = plt.subplots(1,1,figsize=(16,5))\n",
    "ax.set_xlabel(\"t\")\n",
    "ax.set_ylabel(\"amount\")\n",
    "ax.imshow(trajectory,cmap=\"gray_r\")\n",
    "\n",
    "print(dynamics_reach(2000, P, p))\n",
    "Qa(P, sympy=True).left_eigenvects()"
   ]
  },
  {
   "cell_type": "markdown",
   "metadata": {},
   "source": [
    "a) Mean: $\\frac{1}{3} + \\frac{1}{3} +\\frac{1}{3} = 1$\n",
    "\n",
    "b) Mean: $ \\frac{1}{5} + \\frac{1}{5} + \\frac{1}{5} + \\frac{2}{5} = 1$\n",
    "\n",
    "c) Mean: $ \\frac{1}{4} + \\frac{1}{4} + \\frac{1}{8} + \\frac{1}{8} + \\frac{1}{8} + \\frac{1}{8} =1$"
   ]
  },
  {
   "cell_type": "markdown",
   "metadata": {
    "colab_type": "text",
    "id": "n632rtnzbIYq"
   },
   "source": [
    "## 7. Means and standard deviations\n",
    "\n",
    "For each process in problem 6, find the mean and standard deviation of the value of the state in the reachable stationary distribution. For example, in process (a), the stationary distribution has all states equally likely, so the mean would be $\\frac{1}{3} (0+1+2) = 1$. "
   ]
  },
  {
   "cell_type": "markdown",
   "metadata": {},
   "source": [
    "a) Mean: $\\frac{1}{3}(0 + 1 + 2) = 1$\n",
    "\n",
    "b) Mean: $ \\frac{1}{5}(0 + 1 + 2) + \\frac{2}{5}(3) = 1.8$\n",
    "\n",
    "c) Mean: $ \\frac{1}{4}(0 + 1) + \\frac{1}{8}(2 + 3 + 4 + 5 + 6)= 2.75$"
   ]
  },
  {
   "cell_type": "code",
   "execution_count": 76,
   "metadata": {},
   "outputs": [
    {
     "data": {
      "text/latex": [
       "$\\displaystyle 0.816496580927726$"
      ],
      "text/plain": [
       "0.816496580927726"
      ]
     },
     "execution_count": 76,
     "metadata": {},
     "output_type": "execute_result"
    }
   ],
   "source": [
    "u = (0 + 1 + 2) / 3\n",
    "ex1 = (0 + 1 + 4) / 3\n",
    "\n",
    "np.sqrt(ex1 - (u ** 2))"
   ]
  },
  {
   "cell_type": "code",
   "execution_count": 79,
   "metadata": {},
   "outputs": [
    {
     "data": {
      "text/latex": [
       "$\\displaystyle 1.1661903789690595$"
      ],
      "text/plain": [
       "1.1661903789690595"
      ]
     },
     "execution_count": 79,
     "metadata": {},
     "output_type": "execute_result"
    }
   ],
   "source": [
    "u = ((0 + 1 + 2) / 5) + ((2/5) * 3)\n",
    "ex1 = ((0 + 1 + 4) / 5) + ((2/5) * 9)\n",
    "\n",
    "np.sqrt(ex1 - (u ** 2))"
   ]
  },
  {
   "cell_type": "code",
   "execution_count": 80,
   "metadata": {},
   "outputs": [
    {
     "data": {
      "text/latex": [
       "$\\displaystyle 1.984313483298443$"
      ],
      "text/plain": [
       "1.984313483298443"
      ]
     },
     "execution_count": 80,
     "metadata": {},
     "output_type": "execute_result"
    }
   ],
   "source": [
    "u = ((0 + 1) / 4) + ((1/8) * 20)\n",
    "ex1 = ((0 + 1) / 4) + ((1/8) * (2**2 + 3**2 + 4**2 + 5**2 + 6**2))\n",
    "\n",
    "np.sqrt(ex1 - (u ** 2))"
   ]
  },
  {
   "cell_type": "markdown",
   "metadata": {
    "colab_type": "text",
    "id": "XrZIiCDnbIYv"
   },
   "source": [
    "## 8. The Page Rank Algorithm\n",
    "\n",
    "For the following problem, use the `networkx` `pagerank` function or find the eigenvector of the graph as a Markov Process corresponding to the eigenvector 1. Use undirected graphs.\n",
    "\n",
    "a) Find a 10 node, connected graph in which all nodes are ranked equally or explain why such a graph does not exist.\n",
    "\n",
    "b) Find a 10 node, connected graph in which all nodes are ranked differently or explain why such a graph does not exist.\n",
    "\n",
    "c) Find a 10 node, connected graph in which there are two sets $A$ and $B$ of $5$ nodes for which all nodes in $A$ are ranked the same and all nodes in $B$ are ranked the same, but different from nodes in $A$. Or explain why such a graph does not exist."
   ]
  },
  {
   "cell_type": "code",
   "execution_count": 58,
   "metadata": {},
   "outputs": [
    {
     "data": {
      "text/plain": [
       "dict_values([0.1, 0.1, 0.1, 0.1, 0.1, 0.1, 0.1, 0.1, 0.1, 0.1])"
      ]
     },
     "execution_count": 58,
     "metadata": {},
     "output_type": "execute_result"
    },
    {
     "data": {
      "image/png": "[encoded data removed]",
      "text/plain": [
       "<Figure size 432x288 with 1 Axes>"
      ]
     },
     "metadata": {},
     "output_type": "display_data"
    }
   ],
   "source": [
    "# Alternatively, we build a graph and have networkx do the work\n",
    "G = nx.Graph()\n",
    "G.add_nodes_from([0,1,2,3,4,5,6,7,8,9])\n",
    "\n",
    "\n",
    "G.add_edges_from([(0,1),\n",
    "                  (1,2),\n",
    "                  (2,3),\n",
    "                  (3,4),\n",
    "                  (4,5),\n",
    "                  (5,6),\n",
    "                  (6,7),\n",
    "                  (7,8),\n",
    "                  (8,9),\n",
    "                  (9,0)\n",
    "                 ])\n",
    "\n",
    "nx.draw(G)\n",
    "\n",
    "nx.pagerank(G).values()"
   ]
  },
  {
   "cell_type": "code",
   "execution_count": 57,
   "metadata": {},
   "outputs": [
    {
     "data": {
      "text/plain": [
       "dict_values([0.12300046398427997, 0.18158456840956294, 0.07365149655819675, 0.03429332886561459, 0.04630296617242602, 0.08656824976065733, 0.10429899914035123, 0.10429899914035123, 0.12300046398427995, 0.12300046398427995])"
      ]
     },
     "execution_count": 57,
     "metadata": {},
     "output_type": "execute_result"
    },
    {
     "data": {
      "image/png": "[encoded data removed]",
      "text/plain": [
       "<Figure size 432x288 with 1 Axes>"
      ]
     },
     "metadata": {},
     "output_type": "display_data"
    }
   ],
   "source": [
    "# Alternatively, we build a graph and have networkx do the work\n",
    "# Can't build a undirected graph with equal rank.\n",
    "\n",
    "G = nx.Graph()\n",
    "G.add_nodes_from([0,1,2,3,4,5,6,7,8,9])\n",
    "\n",
    "\n",
    "G.add_edges_from([(0,1),(0,5),(0,6),(0,7),(0,8),(0,9),\n",
    "                  (1,2),(1,3),(2,4),(1,5),(1,6),(1,8),(1,9),\n",
    "                  (5,8),(5,9),\n",
    "                  (6,7),(6,8),(6,9),\n",
    "                  (7,8),(7,9),(7,1),\n",
    "                  (8,9),\n",
    "                 ])\n",
    "\n",
    "nx.draw(G)\n",
    "\n",
    "nx.pagerank(G).values()"
   ]
  },
  {
   "cell_type": "code",
   "execution_count": 25,
   "metadata": {},
   "outputs": [
    {
     "data": {
      "text/plain": [
       "dict_values([0.1, 0.1, 0.1, 0.1, 0.1, 0.1, 0.1, 0.1, 0.1, 0.1])"
      ]
     },
     "execution_count": 25,
     "metadata": {},
     "output_type": "execute_result"
    },
    {
     "data": {
      "image/png": "[encoded data removed]",
      "text/plain": [
       "<Figure size 432x288 with 1 Axes>"
      ]
     },
     "metadata": {},
     "output_type": "display_data"
    }
   ],
   "source": [
    "# Alternatively, we build a graph and have networkx do the work\n",
    "G = nx.Graph()\n",
    "G.add_nodes_from([0,1,2,3,4,5,6,7,8,9])\n",
    "\n",
    "\n",
    "G.add_edges_from([(0,1),\n",
    "                  (1,2),\n",
    "                  (2,3),\n",
    "                  (3,4),\n",
    "                  (4,5),\n",
    "                  (5,6),\n",
    "                  (6,7),\n",
    "                  (7,8),\n",
    "                  (8,9),\n",
    "                  (9,0)\n",
    "                 ])\n",
    "\n",
    "nx.draw(G)\n",
    "\n",
    "nx.pagerank(G).values()"
   ]
  },
  {
   "cell_type": "code",
   "execution_count": 22,
   "metadata": {},
   "outputs": [
    {
     "name": "stderr",
     "output_type": "stream",
     "text": [
      "/Users/paulheng/anaconda3/lib/python3.7/site-packages/networkx/drawing/nx_pylab.py:579: MatplotlibDeprecationWarning: \n",
      "The iterable function was deprecated in Matplotlib 3.1 and will be removed in 3.3. Use np.iterable instead.\n",
      "  if not cb.iterable(width):\n"
     ]
    },
    {
     "data": {
      "text/plain": [
       "dict_values([0.055844303063507836, 0.055844303063507836, 0.055844303063507836, 0.055844303063507836, 0.055844303063507836, 0.14415569693649213, 0.1441556969364921, 0.1441556969364921, 0.1441556969364921, 0.14415569693649213])"
      ]
     },
     "execution_count": 22,
     "metadata": {},
     "output_type": "execute_result"
    },
    {
     "data": {
      "image/png": "[encoded data removed]",
      "text/plain": [
       "<Figure size 432x288 with 1 Axes>"
      ]
     },
     "metadata": {},
     "output_type": "display_data"
    }
   ],
   "source": [
    "# Alternatively, we build a graph and have networkx do the work\n",
    "G = nx.Graph()\n",
    "G.add_nodes_from([0,1,2,3,4,5,6,7,8,9])\n",
    "\n",
    "\n",
    "G.add_edges_from([(0,5), # node a\n",
    "                  (1,6),\n",
    "                  (2,7),\n",
    "                  (3,8),\n",
    "                  (4,9),\n",
    "                  \n",
    "                  (5,6), # node b\n",
    "                  (6,7),\n",
    "                  (7,8),\n",
    "                  (8,9),\n",
    "                  (9,5)\n",
    "                 ])\n",
    "\n",
    "nx.draw(G)\n",
    "\n",
    "nx.pagerank(G).values()"
   ]
  },
  {
   "cell_type": "code",
   "execution_count": null,
   "metadata": {},
   "outputs": [],
   "source": []
  }
 ],
 "metadata": {
  "colab": {
   "name": "HW_08_Probability_Due_11_27.ipynb",
   "provenance": []
  },
  "kernelspec": {
   "display_name": "Python 3",
   "language": "python",
   "name": "python3"
  },
  "language_info": {
   "codemirror_mode": {
    "name": "ipython",
    "version": 3
   },
   "file_extension": ".py",
   "mimetype": "text/x-python",
   "name": "python",
   "nbconvert_exporter": "python",
   "pygments_lexer": "ipython3",
   "version": "3.7.3"
  }
 },
 "nbformat": 4,
 "nbformat_minor": 1
}
